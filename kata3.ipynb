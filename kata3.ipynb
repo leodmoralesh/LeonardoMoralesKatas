{
 "cells": [
  {
   "cell_type": "code",
   "execution_count": 6,
   "metadata": {},
   "outputs": [
    {
     "name": "stdout",
     "output_type": "stream",
     "text": [
      "un asteroide se acerca a la Tierra demasiado rápido\n"
     ]
    }
   ],
   "source": [
    "velocidad_asteroide = 49\n",
    "if velocidad_asteroide > 25:\n",
    "    print ('un asteroide se acerca a la Tierra demasiado rápido')\n",
    "else:\n",
    "    print ('No hay riesgo')"
   ]
  },
  {
   "cell_type": "code",
   "execution_count": 8,
   "metadata": {},
   "outputs": [
    {
     "name": "stdout",
     "output_type": "stream",
     "text": [
      " no se ve nada\n"
     ]
    }
   ],
   "source": [
    "velocidad_asteroide = 19\n",
    "if velocidad_asteroide >= 20:\n",
    "    print ('mira, un asteroide!')\n",
    "elif velocidad_asteroide >= 20:\n",
    "    print ('sigue buscando el asteroide')\n",
    "else:\n",
    "    print (' no se ve nada')"
   ]
  },
  {
   "cell_type": "code",
   "execution_count": 16,
   "metadata": {},
   "outputs": [
    {
     "name": "stdout",
     "output_type": "stream",
     "text": [
      "tranqui, aqui no pasa nada\n"
     ]
    }
   ],
   "source": [
    "velocidad_asteroide = 2\n",
    "tamaño_asteroide = 2\n",
    "\n",
    "if tamaño_asteroide > 25 and tamaño_asteroide < 1000 or velocidad_asteroide > 25:\n",
    "    print ('esto si que causara un gran daño en la tierra!')\n",
    "elif velocidad_asteroide >= 20:\n",
    "    print ('mira al cielo, el asteroide se puede ver  ')\n",
    "else:\n",
    "    print ('tranqui, aqui no pasa nada')"
   ]
  }
 ],
 "metadata": {
  "interpreter": {
   "hash": "58d08e0327900a661a3c1fcc5c2fb681d158178980f2aa5ec42c957806566952"
  },
  "kernelspec": {
   "display_name": "Python 3.10.2 64-bit",
   "language": "python",
   "name": "python3"
  },
  "language_info": {
   "codemirror_mode": {
    "name": "ipython",
    "version": 3
   },
   "file_extension": ".py",
   "mimetype": "text/x-python",
   "name": "python",
   "nbconvert_exporter": "python",
   "pygments_lexer": "ipython3",
   "version": "3.10.2"
  },
  "orig_nbformat": 4
 },
 "nbformat": 4,
 "nbformat_minor": 2
}
